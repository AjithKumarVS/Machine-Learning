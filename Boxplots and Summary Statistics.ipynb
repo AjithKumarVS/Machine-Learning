{
 "cells": [
  {
   "cell_type": "code",
   "execution_count": 1,
   "metadata": {},
   "outputs": [],
   "source": [
    "import csv\n",
    "import matplotlib.pyplot as plt\n",
    "import math\n",
    "import numpy as np\n",
    "import statistics\n",
    "\n",
    "path = r'C:\\Users\\avakk\\Dropbox\\Coursework\\Machine Learning\\Assignments\\AS1'\n",
    "file = open(path+r'\\NormalSample.csv',\"r\")\n",
    "test_reader = csv.reader(file)\n",
    "\n",
    "\n",
    "vec=[]\n",
    "for val in test_reader:\n",
    "    vec.append((val[2]))\n",
    "vec=vec[1:]\n",
    "x=[]\n",
    "for val in vec:\n",
    "    try:\n",
    "        x.append(float(val))\n",
    "    except:\n",
    "        x.append(int(val))\n",
    "        \n",
    "        \n"
   ]
  },
  {
   "cell_type": "code",
   "execution_count": 2,
   "metadata": {},
   "outputs": [
    {
     "name": "stdout",
     "output_type": "stream",
     "text": [
      "Five-Number summary statistics of x\n",
      "Min:26.3\n",
      "Max:35.4\n",
      "Q1:30.4\n",
      "Q3:32.4\n",
      "Median:31.5\n",
      " \n",
      "1.5IQR Whiskers\n",
      "27.4\n",
      "35.4\n"
     ]
    }
   ],
   "source": [
    "print(\"Five-Number summary statistics of x\")\n",
    "min_x=min(x)\n",
    "print(\"Min:{}\".format(min_x))\n",
    "max_x=max(x)\n",
    "print(\"Max:{}\".format(max_x))\n",
    "Q1=np.percentile(x,25,interpolation='midpoint')\n",
    "print(\"Q1:{}\".format(Q1))\n",
    "Q3=np.percentile(x,75,interpolation='midpoint')\n",
    "print(\"Q3:{}\".format(Q3))\n",
    "m=statistics.median(x)\n",
    "print(\"Median:{}\".format(m))\n",
    "IQR=Q3-Q1\n",
    "print(\" \")\n",
    "print(\"1.5IQR Whiskers\")\n",
    "W1=Q1-(1.5*IQR)\n",
    "print(W1)\n",
    "W2=Q3+(1.5*IQR)\n",
    "print(W2)"
   ]
  },
  {
   "cell_type": "code",
   "execution_count": 3,
   "metadata": {},
   "outputs": [],
   "source": [
    "path = r'C:\\Users\\avakk\\Dropbox\\Coursework\\Machine Learning\\Assignments\\AS1'\n",
    "file = open(path+r'\\NormalSample.csv',\"r\")\n",
    "test_reader = csv.reader(file)\n",
    "vec1=[]\n",
    "vec2=[]\n",
    "for val in test_reader:\n",
    "    if(val[1]=='0'):\n",
    "        vec1.append((val[2]))\n",
    "    if(val[1]=='1'):\n",
    "        vec2.append((val[2]))\n",
    "G1=[]\n",
    "for val in vec1:\n",
    "    try:\n",
    "        G1.append(float(val))\n",
    "    except:\n",
    "        G1.append(int(val))\n",
    "G2=[]\n",
    "for val in vec2:\n",
    "    try:\n",
    "        G2.append(float(val))\n",
    "    except:\n",
    "        G2.append(int(val))  "
   ]
  },
  {
   "cell_type": "code",
   "execution_count": 4,
   "metadata": {},
   "outputs": [
    {
     "name": "stdout",
     "output_type": "stream",
     "text": [
      "Five-Number summary statistics of Group 1-(x=0)\n",
      "Min:26.3\n",
      "Max:32.2\n",
      "Q1:29.4\n",
      "Q3:30.6\n",
      "Median:30.0\n",
      " \n",
      "1.5IQR Whiskers\n",
      "27.599999999999994\n",
      "32.400000000000006\n"
     ]
    }
   ],
   "source": [
    "print(\"Five-Number summary statistics of Group 1-(x=0)\")\n",
    "min_g1=min(G1)\n",
    "print(\"Min:{}\".format(min_g1))\n",
    "max_g1=max(G1)\n",
    "print(\"Max:{}\".format(max_g1))\n",
    "Q1_g1=np.percentile(G1,25,interpolation='midpoint')\n",
    "print(\"Q1:{}\".format(Q1_g1))\n",
    "Q3_g1=np.percentile(G1,75,interpolation='midpoint')\n",
    "print(\"Q3:{}\".format(Q3_g1))\n",
    "m_g1=statistics.median(G1)\n",
    "print(\"Median:{}\".format(m_g1))\n",
    "IQR_g1=Q3_g1-Q1_g1\n",
    "\n",
    "print(\" \")\n",
    "print(\"1.5IQR Whiskers\")\n",
    "W1_g1=Q1_g1-(1.5*IQR_g1)\n",
    "print(W1_g1)\n",
    "W2_g1=Q3_g1+(1.5*IQR_g1)   \n",
    "print(W2_g1) "
   ]
  },
  {
   "cell_type": "code",
   "execution_count": 5,
   "metadata": {},
   "outputs": [
    {
     "name": "stdout",
     "output_type": "stream",
     "text": [
      "Five-Number summary statistics of Group 2-(x=1)\n",
      "Min:29.1\n",
      "Max:35.4\n",
      "Q1:31.4\n",
      "Q3:32.7\n",
      "Median:32.1\n",
      " \n",
      "1.5IQR Whiskers\n",
      "29.449999999999992\n",
      "34.650000000000006\n"
     ]
    }
   ],
   "source": [
    "print(\"Five-Number summary statistics of Group 2-(x=1)\")\n",
    "min_g2=min(G2)\n",
    "print(\"Min:{}\".format(min_g2))\n",
    "max_g2=max(G2)\n",
    "print(\"Max:{}\".format(max_g2))\n",
    "Q1_g2=np.percentile(G2,25,interpolation='midpoint')\n",
    "print(\"Q1:{}\".format(Q1_g2))\n",
    "Q3_g2=np.percentile(G2,75,interpolation='midpoint')\n",
    "print(\"Q3:{}\".format(Q3_g2))\n",
    "m_g2=statistics.median(G2)\n",
    "print(\"Median:{}\".format(m_g2))\n",
    "IQR_g2=Q3_g2-Q1_g2\n",
    "\n",
    "print(\" \")\n",
    "print(\"1.5IQR Whiskers\")\n",
    "W1_g2=Q1_g2-(1.5*IQR_g2)\n",
    "print(W1_g2)\n",
    "W2_g2=Q3_g2+(1.5*IQR_g2)   \n",
    "print(W2_g2) \n"
   ]
  },
  {
   "cell_type": "code",
   "execution_count": 6,
   "metadata": {},
   "outputs": [
    {
     "data": {
      "text/plain": [
       "{'whiskers': [<matplotlib.lines.Line2D at 0x20da4d9d708>,\n",
       "  <matplotlib.lines.Line2D at 0x20da4d9dd08>],\n",
       " 'caps': [<matplotlib.lines.Line2D at 0x20da4d9d388>,\n",
       "  <matplotlib.lines.Line2D at 0x20da4d9da08>],\n",
       " 'boxes': [<matplotlib.lines.Line2D at 0x20da4d8ee48>],\n",
       " 'medians': [<matplotlib.lines.Line2D at 0x20da4da8fc8>],\n",
       " 'fliers': [<matplotlib.lines.Line2D at 0x20da4da86c8>],\n",
       " 'means': []}"
      ]
     },
     "execution_count": 6,
     "metadata": {},
     "output_type": "execute_result"
    },
    {
     "data": {
      "image/png": "[encoded data removed]",
      "text/plain": [
       "<Figure size 432x288 with 1 Axes>"
      ]
     },
     "metadata": {
      "needs_background": "light"
     },
     "output_type": "display_data"
    }
   ],
   "source": [
    "#Boxplot of x\n",
    "plt.boxplot(x)"
   ]
  },
  {
   "cell_type": "code",
   "execution_count": 7,
   "metadata": {},
   "outputs": [
    {
     "name": "stdout",
     "output_type": "stream",
     "text": [
      "Outliers for x\n",
      "27.2\n",
      "26.3\n",
      "Outliers for G1\n",
      "27.2\n",
      "26.3\n",
      "Outliers for G2\n",
      "35.3\n",
      "29.3\n",
      "35.4\n",
      "34.9\n",
      "34.7\n",
      "34.8\n",
      "29.3\n",
      "29.1\n"
     ]
    },
    {
     "data": {
      "image/png": "[encoded data removed]",
      "text/plain": [
       "<Figure size 432x288 with 1 Axes>"
      ]
     },
     "metadata": {
      "needs_background": "light"
     },
     "output_type": "display_data"
    }
   ],
   "source": [
    "fig, axs = plt.subplots(1)\n",
    "data_to_plot=[x,G1,G2]\n",
    "axs.boxplot(data_to_plot)\n",
    "plt.show\n",
    "print(\"Outliers for x\")\n",
    "for val in x:\n",
    "    if((val<W1)|(val>W2)):\n",
    "        print(val)\n",
    "print(\"Outliers for G1\")\n",
    "for val in G1:\n",
    "    if((val<W1_g1)|(val>W2_g1)):\n",
    "        print(val)\n",
    "print(\"Outliers for G2\")\n",
    "for val in G2:\n",
    "    if((val<W1_g2)|(val>W2_g2)):\n",
    "        print(val)"
   ]
  },
  {
   "cell_type": "code",
   "execution_count": null,
   "metadata": {},
   "outputs": [],
   "source": []
  }
 ],
 "metadata": {
  "kernelspec": {
   "display_name": "Python 3",
   "language": "python",
   "name": "python3"
  },
  "language_info": {
   "codemirror_mode": {
    "name": "ipython",
    "version": 3
   },
   "file_extension": ".py",
   "mimetype": "text/x-python",
   "name": "python",
   "nbconvert_exporter": "python",
   "pygments_lexer": "ipython3",
   "version": "3.7.4"
  }
 },
 "nbformat": 4,
 "nbformat_minor": 2
}
