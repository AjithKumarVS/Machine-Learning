{
 "cells": [
  {
   "cell_type": "code",
   "execution_count": 8,
   "metadata": {},
   "outputs": [
    {
     "name": "stdout",
     "output_type": "stream",
     "text": [
      "0.3998667554864774\n"
     ]
    }
   ],
   "source": [
    "import csv\n",
    "import math\n",
    "import numpy as np\n",
    "import matplotlib.pyplot as plt\n",
    "path = r'C:\\Users\\avakk\\Dropbox\\Coursework\\Machine Learning\\Assignments\\AS1'\n",
    "file = open(path+r'\\NormalSample.csv',\"r\")\n",
    "test_reader = csv.reader(file)\n",
    "\n",
    "vec=[]\n",
    "for val in test_reader:\n",
    "    vec.append((val[2]))\n",
    "vec=vec[1:]\n",
    "x=[]\n",
    "for val in vec:\n",
    "    try:\n",
    "        x.append(float(val))\n",
    "    except:\n",
    "        x.append(int(val))\n",
    "\n",
    "#The recommended bin-width based on Izenman (1991) method for the histogram of x \n",
    "Q1=np.percentile(x,25,interpolation='midpoint')\n",
    "Q3=np.percentile(x,75,interpolation='midpoint')\n",
    "\n",
    "IQR=Q3-Q1\n",
    "h=(2*IQR)/((len(x))**(1. /3))\n",
    "print(h)\n"
   ]
  },
  {
   "cell_type": "code",
   "execution_count": 9,
   "metadata": {},
   "outputs": [
    {
     "name": "stdout",
     "output_type": "stream",
     "text": [
      "26.3\n",
      "35.4\n"
     ]
    }
   ],
   "source": [
    "#Minimum and the maximum values of the field x\n",
    "min_x=min(x)\n",
    "print(min_x)\n",
    " \n",
    "max_x=max(x)\n",
    "print(max_x)\n"
   ]
  },
  {
   "cell_type": "code",
   "execution_count": 10,
   "metadata": {},
   "outputs": [
    {
     "name": "stdout",
     "output_type": "stream",
     "text": [
      "26\n",
      "36\n"
     ]
    }
   ],
   "source": [
    "#Considering a to be the largest integer less than the minimum value of the field x, and b be the smallest integer greater than the maximum value of the field x.  \n",
    "a=math.floor(min_x)\n",
    "print(a)\n",
    "b=math.ceil(max_x)\n",
    "print(b)"
   ]
  },
  {
   "cell_type": "code",
   "execution_count": 11,
   "metadata": {},
   "outputs": [
    {
     "name": "stdout",
     "output_type": "stream",
     "text": [
      "For h=0.25\n",
      "26.425-0.007992007992007992\n",
      "26.675-0.007992007992007992\n",
      "26.925-0.027972027972027972\n",
      "27.175-0.03596403596403597\n",
      "27.425-0.07192807192807193\n",
      "27.675-0.1038961038961039\n",
      "27.925-0.17582417582417584\n",
      "28.175-0.21178821178821178\n",
      "28.425-0.3436563436563437\n",
      "28.675-0.4755244755244755\n",
      "28.925-0.6153846153846154\n",
      "29.175-0.7312687312687313\n",
      "29.425-0.951048951048951\n",
      "29.675-1.0909090909090908\n",
      "29.925-1.2867132867132867\n",
      "30.175-1.3826173826173827\n",
      "30.425-1.5544455544455544\n",
      "30.675-1.6623376623376624\n",
      "30.925-1.826173826173826\n",
      "31.175-1.9380619380619382\n",
      "31.425-1.978021978021978\n",
      "31.675-2.00999000999001\n",
      "31.925-2.013986013986014\n",
      "32.175-2.013986013986014\n",
      "32.425-1.8461538461538463\n",
      "32.675-1.6743256743256743\n",
      "32.925-1.4305694305694305\n",
      "33.175-1.2227772227772227\n",
      "33.425-0.9590409590409591\n",
      "33.675-0.7712287712287712\n",
      "33.925-0.5114885114885115\n",
      "34.175-0.37962037962037964\n",
      "34.425-0.24775224775224775\n",
      "34.675-0.1798201798201798\n",
      "34.925-0.0999000999000999\n",
      "35.175-0.07192807192807193\n",
      "35.425-0.03596403596403597\n",
      "35.675-0.01998001998001998\n",
      "35.925-0.007992007992007992\n"
     ]
    },
    {
     "data": {
      "image/png": "[encoded data removed]",
      "text/plain": [
       "<Figure size 432x288 with 2 Axes>"
      ]
     },
     "metadata": {
      "needs_background": "light"
     },
     "output_type": "display_data"
    }
   ],
   "source": [
    "#Co-ordinates of density estimator when (h=0.25, 0.5, 1, 2), minimum=a, maximum=b. \n",
    "def histogram_density(val):\n",
    "    mid_points=[]\n",
    "    mid=min_x+(val/2)\n",
    "    while((a<mid)&(mid<b)):\n",
    "        mid_points.append(mid)\n",
    "        mid=mid+val\n",
    "    print(\"For h={}\".format(val))\n",
    "    \n",
    "    den_est=[]\n",
    "    for i in range(0,len(mid_points)):\n",
    "        w=[]\n",
    "        u=[]\n",
    "        for j in range (0,len(x)):\n",
    "            u.append((x[j]-mid_points[i])/2)\n",
    "            if((u[j]<0.5) & (u[j]>-0.5)):\n",
    "                w.append(1)\n",
    "            else:\n",
    "                w.append(0)\n",
    "        den_est.append(sum(w)/(len(x)*val))\n",
    "        print(\"{}-{}\".format(mid_points[i],den_est[i]))\n",
    "    fig, axs = plt.subplots(2)\n",
    "    #Histogram and Denstity plots\n",
    "    axs[0].step(mid_points,den_est)\n",
    "    axs[1].hist(x,bins=mid_points)\n",
    "    plt.show\n",
    "    \n",
    "h_values=[0.25,0.5,1,2]\n",
    "histogram_density(h_values[0]) \n",
    "\n",
    "\n"
   ]
  },
  {
   "cell_type": "code",
   "execution_count": 12,
   "metadata": {},
   "outputs": [
    {
     "name": "stdout",
     "output_type": "stream",
     "text": [
      "For h=0.5\n",
      "26.55-0.003996003996003996\n",
      "27.05-0.015984015984015984\n",
      "27.55-0.04395604395604396\n",
      "28.05-0.0979020979020979\n",
      "28.55-0.1998001998001998\n",
      "29.05-0.33766233766233766\n",
      "29.55-0.5154845154845155\n",
      "30.05-0.6673326673326674\n",
      "30.55-0.8171828171828172\n",
      "31.05-0.949050949050949\n",
      "31.55-0.997002997002997\n",
      "32.05-1.010989010989011\n",
      "32.55-0.8771228771228772\n",
      "33.05-0.6533466533466533\n",
      "33.55-0.4275724275724276\n",
      "34.05-0.2177822177822178\n",
      "34.55-0.1018981018981019\n",
      "35.05-0.04395604395604396\n",
      "35.55-0.013986013986013986\n"
     ]
    },
    {
     "data": {
      "image/png": "[encoded data removed]",
      "text/plain": [
       "<Figure size 432x288 with 2 Axes>"
      ]
     },
     "metadata": {
      "needs_background": "light"
     },
     "output_type": "display_data"
    }
   ],
   "source": [
    "histogram_density(h_values[1]) "
   ]
  },
  {
   "cell_type": "code",
   "execution_count": 13,
   "metadata": {},
   "outputs": [
    {
     "name": "stdout",
     "output_type": "stream",
     "text": [
      "For h=1\n",
      "26.8-0.003996003996003996\n",
      "27.8-0.030969030969030968\n",
      "28.8-0.1258741258741259\n",
      "29.8-0.2867132867132867\n",
      "30.8-0.4305694305694306\n",
      "31.8-0.5074925074925075\n",
      "32.8-0.3916083916083916\n",
      "33.8-0.14185814185814186\n",
      "34.8-0.03196803196803197\n",
      "35.8-0.002997002997002997\n"
     ]
    },
    {
     "data": {
      "image/png": "[encoded data removed]",
      "text/plain": [
       "<Figure size 432x288 with 2 Axes>"
      ]
     },
     "metadata": {
      "needs_background": "light"
     },
     "output_type": "display_data"
    }
   ],
   "source": [
    "histogram_density(h_values[2])"
   ]
  },
  {
   "cell_type": "code",
   "execution_count": 14,
   "metadata": {},
   "outputs": [
    {
     "name": "stdout",
     "output_type": "stream",
     "text": [
      "For h=2\n",
      "27.3-0.006493506493506494\n",
      "29.3-0.0984015984015984\n",
      "31.3-0.24925074925074925\n",
      "33.3-0.12987012987012986\n",
      "35.3-0.004995004995004995\n"
     ]
    },
    {
     "data": {
      "image/png": "[encoded data removed]",
      "text/plain": [
       "<Figure size 432x288 with 2 Axes>"
      ]
     },
     "metadata": {
      "needs_background": "light"
     },
     "output_type": "display_data"
    }
   ],
   "source": [
    "histogram_density(h_values[3]) "
   ]
  }
 ],
 "metadata": {
  "kernelspec": {
   "display_name": "Python 3",
   "language": "python",
   "name": "python3"
  },
  "language_info": {
   "codemirror_mode": {
    "name": "ipython",
    "version": 3
   },
   "file_extension": ".py",
   "mimetype": "text/x-python",
   "name": "python",
   "nbconvert_exporter": "python",
   "pygments_lexer": "ipython3",
   "version": "3.7.4"
  }
 },
 "nbformat": 4,
 "nbformat_minor": 2
}
